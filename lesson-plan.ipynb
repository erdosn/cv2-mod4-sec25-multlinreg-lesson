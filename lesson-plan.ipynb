{
 "cells": [
  {
   "cell_type": "markdown",
   "metadata": {},
   "source": [
    "### Questions\n",
    "- What differentiates hetereoskedacicity vs homoskedacsticity "
   ]
  },
  {
   "cell_type": "markdown",
   "metadata": {},
   "source": [
    "Datasets:\n",
    "\n",
    "- Weather Data set found [here](https://www.kaggle.com/budincsevity/szeged-weather)"
   ]
  },
  {
   "cell_type": "markdown",
   "metadata": {},
   "source": [
    "### Objectives\n",
    "YWBAT\n",
    "* Apply techniques to solve a multiple linear regression problem\n",
    "* Create multilinear regression models and change them to optimize results"
   ]
  },
  {
   "cell_type": "markdown",
   "metadata": {},
   "source": [
    "### Outline\n",
    "- Clone lesson repo to your local\n",
    "- Breakout groups to build a model\n",
    "    - both people should be coding\n",
    "    - 1 person can screenshare\n",
    "    - you can divide work (divide and conquer!)\n",
    "    - Save 5-8 minutes to write a conclusion\n",
    "- Present model to the class (conclusion)"
   ]
  },
  {
   "cell_type": "code",
   "execution_count": 61,
   "metadata": {},
   "outputs": [],
   "source": [
    "import pandas as pd\n",
    "import numpy as np\n",
    "import scipy.stats as scs\n",
    "import statsmodels.api as sm\n",
    "\n",
    "from sklearn.model_selection import train_test_split\n",
    "from sklearn.linear_model import LinearRegression\n",
    "from sklearn.model_selection import cross_val_score\n",
    "from sklearn.metrics import r2_score, make_scorer\n",
    "from sklearn.preprocessing import StandardScaler\n",
    "\n",
    "import matplotlib.pyplot as plt\n",
    "import seaborn as sns"
   ]
  },
  {
   "cell_type": "markdown",
   "metadata": {},
   "source": [
    "### Task, build a model in 35-40 minutes and present it to the class \n",
    "Dataset - ```BNG_cholesterol.csv ```\n",
    "\n",
    "Target - ```chol```\n",
    "\n",
    "No. Features - ```13```"
   ]
  },
  {
   "cell_type": "code",
   "execution_count": 2,
   "metadata": {},
   "outputs": [
    {
     "data": {
      "text/html": [
       "<div>\n",
       "<style scoped>\n",
       "    .dataframe tbody tr th:only-of-type {\n",
       "        vertical-align: middle;\n",
       "    }\n",
       "\n",
       "    .dataframe tbody tr th {\n",
       "        vertical-align: top;\n",
       "    }\n",
       "\n",
       "    .dataframe thead th {\n",
       "        text-align: right;\n",
       "    }\n",
       "</style>\n",
       "<table border=\"1\" class=\"dataframe\">\n",
       "  <thead>\n",
       "    <tr style=\"text-align: right;\">\n",
       "      <th></th>\n",
       "      <th>age</th>\n",
       "      <th>sex</th>\n",
       "      <th>cp</th>\n",
       "      <th>trestbps</th>\n",
       "      <th>fbs</th>\n",
       "      <th>restecg</th>\n",
       "      <th>thalach</th>\n",
       "      <th>exang</th>\n",
       "      <th>oldpeak</th>\n",
       "      <th>slope</th>\n",
       "      <th>ca</th>\n",
       "      <th>thal</th>\n",
       "      <th>num</th>\n",
       "      <th>chol</th>\n",
       "    </tr>\n",
       "  </thead>\n",
       "  <tbody>\n",
       "    <tr>\n",
       "      <td>0</td>\n",
       "      <td>46.950938</td>\n",
       "      <td>1</td>\n",
       "      <td>1</td>\n",
       "      <td>165.981331</td>\n",
       "      <td>0</td>\n",
       "      <td>2</td>\n",
       "      <td>152.691434</td>\n",
       "      <td>0</td>\n",
       "      <td>1.774223</td>\n",
       "      <td>2</td>\n",
       "      <td>0</td>\n",
       "      <td>7</td>\n",
       "      <td>3</td>\n",
       "      <td>265.569780</td>\n",
       "    </tr>\n",
       "    <tr>\n",
       "      <td>1</td>\n",
       "      <td>47.359284</td>\n",
       "      <td>1</td>\n",
       "      <td>4</td>\n",
       "      <td>134.748286</td>\n",
       "      <td>0</td>\n",
       "      <td>2</td>\n",
       "      <td>132.079047</td>\n",
       "      <td>1</td>\n",
       "      <td>0.407640</td>\n",
       "      <td>2</td>\n",
       "      <td>0</td>\n",
       "      <td>7</td>\n",
       "      <td>0</td>\n",
       "      <td>269.368061</td>\n",
       "    </tr>\n",
       "    <tr>\n",
       "      <td>2</td>\n",
       "      <td>58.455787</td>\n",
       "      <td>1</td>\n",
       "      <td>4</td>\n",
       "      <td>129.456617</td>\n",
       "      <td>0</td>\n",
       "      <td>0</td>\n",
       "      <td>164.523754</td>\n",
       "      <td>1</td>\n",
       "      <td>5.284900</td>\n",
       "      <td>2</td>\n",
       "      <td>0</td>\n",
       "      <td>7</td>\n",
       "      <td>4</td>\n",
       "      <td>244.336917</td>\n",
       "    </tr>\n",
       "    <tr>\n",
       "      <td>3</td>\n",
       "      <td>56.070298</td>\n",
       "      <td>1</td>\n",
       "      <td>4</td>\n",
       "      <td>124.831749</td>\n",
       "      <td>0</td>\n",
       "      <td>2</td>\n",
       "      <td>181.453944</td>\n",
       "      <td>0</td>\n",
       "      <td>1.096476</td>\n",
       "      <td>1</td>\n",
       "      <td>1</td>\n",
       "      <td>7</td>\n",
       "      <td>2</td>\n",
       "      <td>237.985356</td>\n",
       "    </tr>\n",
       "    <tr>\n",
       "      <td>4</td>\n",
       "      <td>44.121116</td>\n",
       "      <td>1</td>\n",
       "      <td>4</td>\n",
       "      <td>109.887955</td>\n",
       "      <td>0</td>\n",
       "      <td>2</td>\n",
       "      <td>110.055090</td>\n",
       "      <td>1</td>\n",
       "      <td>0.437412</td>\n",
       "      <td>2</td>\n",
       "      <td>0</td>\n",
       "      <td>3</td>\n",
       "      <td>1</td>\n",
       "      <td>245.907334</td>\n",
       "    </tr>\n",
       "  </tbody>\n",
       "</table>\n",
       "</div>"
      ],
      "text/plain": [
       "         age  sex  cp    trestbps  fbs  restecg     thalach  exang   oldpeak  \\\n",
       "0  46.950938    1   1  165.981331    0        2  152.691434      0  1.774223   \n",
       "1  47.359284    1   4  134.748286    0        2  132.079047      1  0.407640   \n",
       "2  58.455787    1   4  129.456617    0        0  164.523754      1  5.284900   \n",
       "3  56.070298    1   4  124.831749    0        2  181.453944      0  1.096476   \n",
       "4  44.121116    1   4  109.887955    0        2  110.055090      1  0.437412   \n",
       "\n",
       "   slope  ca  thal  num        chol  \n",
       "0      2   0     7    3  265.569780  \n",
       "1      2   0     7    0  269.368061  \n",
       "2      2   0     7    4  244.336917  \n",
       "3      1   1     7    2  237.985356  \n",
       "4      2   0     3    1  245.907334  "
      ]
     },
     "execution_count": 2,
     "metadata": {},
     "output_type": "execute_result"
    }
   ],
   "source": [
    "df = pd.read_csv(\"./data/BNG_cholesterol.csv\")\n",
    "df.head()"
   ]
  },
  {
   "cell_type": "code",
   "execution_count": 3,
   "metadata": {},
   "outputs": [
    {
     "data": {
      "text/plain": [
       "(1000000, 14)"
      ]
     },
     "execution_count": 3,
     "metadata": {},
     "output_type": "execute_result"
    }
   ],
   "source": [
    "df.shape"
   ]
  },
  {
   "cell_type": "code",
   "execution_count": 5,
   "metadata": {},
   "outputs": [
    {
     "data": {
      "image/png": "[encoded data removed]",
      "text/plain": [
       "<Figure size 1080x1080 with 2 Axes>"
      ]
     },
     "metadata": {
      "needs_background": "light"
     },
     "output_type": "display_data"
    }
   ],
   "source": [
    "corr = df.corr()\n",
    "\n",
    "plt.figure(figsize=(15, 15))\n",
    "sns.heatmap(corr.abs(), annot=True, cmap=sns.color_palette('Blues'))\n",
    "plt.show()"
   ]
  },
  {
   "cell_type": "markdown",
   "metadata": {},
   "source": [
    "### What makes for good AIC/BIC?\n",
    "The lowest AIC/BIC\n",
    "\n",
    "- Akaike’s Inflation Coefficient\n",
    "- Bayes Inflation Coefficient - penalizes for number of features\n",
    "\n",
    "BIC - the leanest/meanest (low -> best) - penalizes features\n",
    "\n",
    "AIC - go between (accounting for explanation of variance and takes into account the sample size)"
   ]
  },
  {
   "cell_type": "markdown",
   "metadata": {},
   "source": [
    "### Tools to use\n",
    "\n",
    "> BoxCox will fit x to y in a linear relationship because it shows transformation needed to make x and y morenormally related\n",
    "\n",
    "https://docs.scipy.org/doc/scipy/reference/generated/scipy.stats.boxcox.html\n",
    "\n",
    ">VIF (Variance Inflation Factor)\n",
    "\n",
    "https://etav.github.io/python/vif_factor_python.html"
   ]
  },
  {
   "cell_type": "code",
   "execution_count": 40,
   "metadata": {},
   "outputs": [],
   "source": [
    "def make_ols(df, target='chol', columns_to_use = ['age', 'thalach'], \n",
    "             add_constant=False, display_summary=False,\n",
    "             display_vif=True):\n",
    "    X = df[columns_to_use]\n",
    "    y = df[target]\n",
    "    if add_constant:\n",
    "        X = sm.add_constant(X)\n",
    "    linreg = sm.OLS(y, X).fit()\n",
    "    if display_summary:\n",
    "        display(linreg.summary())\n",
    "    if display_vif:\n",
    "        print(1 / (1 - linreg.rsquared))\n",
    "    return linreg"
   ]
  },
  {
   "cell_type": "code",
   "execution_count": 20,
   "metadata": {},
   "outputs": [
    {
     "data": {
      "text/html": [
       "<table class=\"simpletable\">\n",
       "<caption>OLS Regression Results</caption>\n",
       "<tr>\n",
       "  <th>Dep. Variable:</th>          <td>chol</td>       <th>  R-squared (uncentered):</th>       <td>   0.951</td>  \n",
       "</tr>\n",
       "<tr>\n",
       "  <th>Model:</th>                   <td>OLS</td>       <th>  Adj. R-squared (uncentered):</th>  <td>   0.951</td>  \n",
       "</tr>\n",
       "<tr>\n",
       "  <th>Method:</th>             <td>Least Squares</td>  <th>  F-statistic:       </th>           <td>9.662e+06</td> \n",
       "</tr>\n",
       "<tr>\n",
       "  <th>Date:</th>             <td>Tue, 05 Nov 2019</td> <th>  Prob (F-statistic):</th>            <td>  0.00</td>   \n",
       "</tr>\n",
       "<tr>\n",
       "  <th>Time:</th>                 <td>13:29:22</td>     <th>  Log-Likelihood:    </th>          <td>-5.4429e+06</td>\n",
       "</tr>\n",
       "<tr>\n",
       "  <th>No. Observations:</th>      <td>1000000</td>     <th>  AIC:               </th>           <td>1.089e+07</td> \n",
       "</tr>\n",
       "<tr>\n",
       "  <th>Df Residuals:</th>          <td>999998</td>      <th>  BIC:               </th>           <td>1.089e+07</td> \n",
       "</tr>\n",
       "<tr>\n",
       "  <th>Df Model:</th>              <td>     2</td>      <th>                     </th>               <td> </td>     \n",
       "</tr>\n",
       "<tr>\n",
       "  <th>Covariance Type:</th>      <td>nonrobust</td>    <th>                     </th>               <td> </td>     \n",
       "</tr>\n",
       "</table>\n",
       "<table class=\"simpletable\">\n",
       "<tr>\n",
       "     <td></td>        <th>coef</th>     <th>std err</th>      <th>t</th>      <th>P>|t|</th>  <th>[0.025</th>    <th>0.975]</th>  \n",
       "</tr>\n",
       "<tr>\n",
       "  <th>age</th>     <td>    2.5407</td> <td>    0.004</td> <td>  567.740</td> <td> 0.000</td> <td>    2.532</td> <td>    2.549</td>\n",
       "</tr>\n",
       "<tr>\n",
       "  <th>thalach</th> <td>    0.7082</td> <td>    0.002</td> <td>  433.499</td> <td> 0.000</td> <td>    0.705</td> <td>    0.711</td>\n",
       "</tr>\n",
       "</table>\n",
       "<table class=\"simpletable\">\n",
       "<tr>\n",
       "  <th>Omnibus:</th>       <td>61638.553</td> <th>  Durbin-Watson:     </th> <td>   1.998</td> \n",
       "</tr>\n",
       "<tr>\n",
       "  <th>Prob(Omnibus):</th>  <td> 0.000</td>   <th>  Jarque-Bera (JB):  </th> <td>76647.024</td>\n",
       "</tr>\n",
       "<tr>\n",
       "  <th>Skew:</th>           <td> 0.605</td>   <th>  Prob(JB):          </th> <td>    0.00</td> \n",
       "</tr>\n",
       "<tr>\n",
       "  <th>Kurtosis:</th>       <td> 3.612</td>   <th>  Cond. No.          </th> <td>    13.6</td> \n",
       "</tr>\n",
       "</table><br/><br/>Warnings:<br/>[1] Standard Errors assume that the covariance matrix of the errors is correctly specified."
      ],
      "text/plain": [
       "<class 'statsmodels.iolib.summary.Summary'>\n",
       "\"\"\"\n",
       "                                 OLS Regression Results                                \n",
       "=======================================================================================\n",
       "Dep. Variable:                   chol   R-squared (uncentered):                   0.951\n",
       "Model:                            OLS   Adj. R-squared (uncentered):              0.951\n",
       "Method:                 Least Squares   F-statistic:                          9.662e+06\n",
       "Date:                Tue, 05 Nov 2019   Prob (F-statistic):                        0.00\n",
       "Time:                        13:29:22   Log-Likelihood:                     -5.4429e+06\n",
       "No. Observations:             1000000   AIC:                                  1.089e+07\n",
       "Df Residuals:                  999998   BIC:                                  1.089e+07\n",
       "Df Model:                           2                                                  \n",
       "Covariance Type:            nonrobust                                                  \n",
       "==============================================================================\n",
       "                 coef    std err          t      P>|t|      [0.025      0.975]\n",
       "------------------------------------------------------------------------------\n",
       "age            2.5407      0.004    567.740      0.000       2.532       2.549\n",
       "thalach        0.7082      0.002    433.499      0.000       0.705       0.711\n",
       "==============================================================================\n",
       "Omnibus:                    61638.553   Durbin-Watson:                   1.998\n",
       "Prob(Omnibus):                  0.000   Jarque-Bera (JB):            76647.024\n",
       "Skew:                           0.605   Prob(JB):                         0.00\n",
       "Kurtosis:                       3.612   Cond. No.                         13.6\n",
       "==============================================================================\n",
       "\n",
       "Warnings:\n",
       "[1] Standard Errors assume that the covariance matrix of the errors is correctly specified.\n",
       "\"\"\""
      ]
     },
     "metadata": {},
     "output_type": "display_data"
    }
   ],
   "source": [
    "linreg = make_ols(df, display_summary=True)"
   ]
  },
  {
   "cell_type": "code",
   "execution_count": 12,
   "metadata": {},
   "outputs": [],
   "source": [
    "residuals = linreg.resid"
   ]
  },
  {
   "cell_type": "code",
   "execution_count": null,
   "metadata": {},
   "outputs": [],
   "source": []
  },
  {
   "cell_type": "code",
   "execution_count": 15,
   "metadata": {},
   "outputs": [
    {
     "data": {
      "image/png": "[encoded data removed]",
      "text/plain": [
       "<Figure size 432x288 with 1 Axes>"
      ]
     },
     "metadata": {
      "needs_background": "light"
     },
     "output_type": "display_data"
    }
   ],
   "source": [
    "xs = np.linspace(0, 1, len(residuals))\n",
    "plt.scatter(xs, residuals, alpha=0.3)\n",
    "plt.hlines(y=0, xmin=0, xmax=1, linestyle='dashed', colors='r', linewidth=2)\n",
    "plt.show()"
   ]
  },
  {
   "cell_type": "code",
   "execution_count": 17,
   "metadata": {},
   "outputs": [
    {
     "data": {
      "text/plain": [
       "0.9507964500843937"
      ]
     },
     "execution_count": 17,
     "metadata": {},
     "output_type": "execute_result"
    }
   ],
   "source": [
    "linreg.rsquared"
   ]
  },
  {
   "cell_type": "markdown",
   "metadata": {},
   "source": [
    "### Track your model stats in stepwise selection:\n",
    "{mod1: {features_used:[], p_values:[], AIC:[], BIC:[], JB:[]}}"
   ]
  },
  {
   "cell_type": "markdown",
   "metadata": {},
   "source": [
    "### Clean Data"
   ]
  },
  {
   "cell_type": "code",
   "execution_count": 16,
   "metadata": {},
   "outputs": [],
   "source": [
    "# our data is cleaned"
   ]
  },
  {
   "cell_type": "markdown",
   "metadata": {},
   "source": [
    "### Correlation Matrix + Interpretation"
   ]
  },
  {
   "cell_type": "code",
   "execution_count": null,
   "metadata": {},
   "outputs": [],
   "source": [
    "# see above"
   ]
  },
  {
   "cell_type": "markdown",
   "metadata": {},
   "source": [
    "### Baseline Model Using scipy.stats"
   ]
  },
  {
   "cell_type": "code",
   "execution_count": null,
   "metadata": {},
   "outputs": [],
   "source": [
    "# see above"
   ]
  },
  {
   "cell_type": "markdown",
   "metadata": {},
   "source": [
    "### Baseline Model Using sklearn"
   ]
  },
  {
   "cell_type": "code",
   "execution_count": null,
   "metadata": {},
   "outputs": [],
   "source": []
  },
  {
   "cell_type": "markdown",
   "metadata": {},
   "source": [
    "### let's look for multicollinearity in our variables using VIF"
   ]
  },
  {
   "cell_type": "markdown",
   "metadata": {},
   "source": [
    "# what is multicollinearity\n",
    "- the independent variables are correlated\n",
    "- it's bad\n",
    "- doesn't always have to be independent, but for the sake of modeling, it is usually independent\n",
    "- doubling information for one variable\n",
    "- selected features have a positive relationship amongst themselves and the target\n",
    "- 2 or more variables\n",
    "- when 2 features are more related to each other than they are the target\n",
    "- when 1 variable can be explained using the other variables with a R2"
   ]
  },
  {
   "cell_type": "markdown",
   "metadata": {},
   "source": [
    "### Iterate through features, looking at R2, then VIF"
   ]
  },
  {
   "cell_type": "code",
   "execution_count": 24,
   "metadata": {},
   "outputs": [
    {
     "name": "stdout",
     "output_type": "stream",
     "text": [
      "VIF for age = 29.151688922207345\n",
      "VIF for sex = 3.4938619746931736\n",
      "VIF for cp = 11.966992904577227\n",
      "VIF for trestbps = 37.60716784357191\n",
      "VIF for fbs = 1.1802127024523554\n",
      "VIF for restecg = 2.0109361058659707\n",
      "VIF for thalach = 30.30625597942151\n",
      "VIF for exang = 1.8121210852367335\n",
      "VIF for oldpeak = 2.53730743815354\n",
      "VIF for slope = 9.143351318503155\n",
      "VIF for ca = 1.7577404077694698\n",
      "VIF for thal = 9.17384484870623\n",
      "VIF for num = 2.199873413962072\n",
      "VIF for chol = 24.40102185834321\n"
     ]
    }
   ],
   "source": [
    "# let's check each column, build a model and get the r2\n",
    "vif_scores = []\n",
    "\n",
    "for column in df.columns:\n",
    "    columns_to_use = df.drop(columns=[column, 'chol']).columns\n",
    "    target = column\n",
    "    linreg = make_ols(df, target=target, columns_to_use=columns_to_use)\n",
    "    R2 = linreg.rsquared\n",
    "    VIF = 1 / (1 - R2)\n",
    "    print(f\"VIF for {column} = {VIF}\")\n",
    "    vif_scores.append((column, VIF, R2))"
   ]
  },
  {
   "cell_type": "code",
   "execution_count": null,
   "metadata": {},
   "outputs": [],
   "source": []
  },
  {
   "cell_type": "code",
   "execution_count": 31,
   "metadata": {},
   "outputs": [
    {
     "data": {
      "text/plain": [
       "[('fbs', 1.1802127024523554, 0.15269510493989158),\n",
       " ('ca', 1.7577404077694698, 0.4310877786163112),\n",
       " ('exang', 1.8121210852367335, 0.4481604964773306),\n",
       " ('restecg', 2.0109361058659707, 0.5027191579667971),\n",
       " ('num', 2.199873413962072, 0.5454283898095051),\n",
       " ('oldpeak', 2.53730743815354, 0.6058814217926527),\n",
       " ('sex', 3.4938619746931736, 0.7137837707261407),\n",
       " ('slope', 9.143351318503155, 0.8906309114496862),\n",
       " ('thal', 9.17384484870623, 0.8909944503649385),\n",
       " ('cp', 11.966992904577227, 0.9164368185078883),\n",
       " ('chol', 24.40102185834321, 0.9590181097412492),\n",
       " ('age', 29.151688922207345, 0.9656966701768619),\n",
       " ('thalach', 30.30625597942151, 0.9670035123877058),\n",
       " ('trestbps', 37.60716784357191, 0.973409324409657)]"
      ]
     },
     "execution_count": 31,
     "metadata": {},
     "output_type": "execute_result"
    }
   ],
   "source": [
    "vif_scores_sorted = sorted(vif_scores, key=lambda x: x[1])\n",
    "vif_scores_sorted"
   ]
  },
  {
   "cell_type": "code",
   "execution_count": 32,
   "metadata": {},
   "outputs": [
    {
     "data": {
      "text/plain": [
       "['fbs', 'ca', 'exang', 'restecg', 'num']"
      ]
     },
     "execution_count": 32,
     "metadata": {},
     "output_type": "execute_result"
    }
   ],
   "source": [
    "vif_scores_sorted_top5 = [x[0] for x in vif_scores_sorted[:5]]\n",
    "vif_scores_sorted_top5"
   ]
  },
  {
   "cell_type": "code",
   "execution_count": 33,
   "metadata": {},
   "outputs": [
    {
     "data": {
      "text/html": [
       "<table class=\"simpletable\">\n",
       "<caption>OLS Regression Results</caption>\n",
       "<tr>\n",
       "  <th>Dep. Variable:</th>          <td>chol</td>       <th>  R-squared (uncentered):</th>       <td>   0.719</td>  \n",
       "</tr>\n",
       "<tr>\n",
       "  <th>Model:</th>                   <td>OLS</td>       <th>  Adj. R-squared (uncentered):</th>  <td>   0.719</td>  \n",
       "</tr>\n",
       "<tr>\n",
       "  <th>Method:</th>             <td>Least Squares</td>  <th>  F-statistic:       </th>           <td>5.129e+05</td> \n",
       "</tr>\n",
       "<tr>\n",
       "  <th>Date:</th>             <td>Tue, 05 Nov 2019</td> <th>  Prob (F-statistic):</th>            <td>  0.00</td>   \n",
       "</tr>\n",
       "<tr>\n",
       "  <th>Time:</th>                 <td>13:39:47</td>     <th>  Log-Likelihood:    </th>          <td>-6.3133e+06</td>\n",
       "</tr>\n",
       "<tr>\n",
       "  <th>No. Observations:</th>      <td>1000000</td>     <th>  AIC:               </th>           <td>1.263e+07</td> \n",
       "</tr>\n",
       "<tr>\n",
       "  <th>Df Residuals:</th>          <td>999995</td>      <th>  BIC:               </th>           <td>1.263e+07</td> \n",
       "</tr>\n",
       "<tr>\n",
       "  <th>Df Model:</th>              <td>     5</td>      <th>                     </th>               <td> </td>     \n",
       "</tr>\n",
       "<tr>\n",
       "  <th>Covariance Type:</th>      <td>nonrobust</td>    <th>                     </th>               <td> </td>     \n",
       "</tr>\n",
       "</table>\n",
       "<table class=\"simpletable\">\n",
       "<tr>\n",
       "     <td></td>        <th>coef</th>     <th>std err</th>      <th>t</th>      <th>P>|t|</th>  <th>[0.025</th>    <th>0.975]</th>  \n",
       "</tr>\n",
       "<tr>\n",
       "  <th>fbs</th>     <td>   80.7102</td> <td>    0.361</td> <td>  223.567</td> <td> 0.000</td> <td>   80.003</td> <td>   81.418</td>\n",
       "</tr>\n",
       "<tr>\n",
       "  <th>ca</th>      <td>   40.9546</td> <td>    0.147</td> <td>  279.097</td> <td> 0.000</td> <td>   40.667</td> <td>   41.242</td>\n",
       "</tr>\n",
       "<tr>\n",
       "  <th>exang</th>   <td>   96.6010</td> <td>    0.266</td> <td>  363.064</td> <td> 0.000</td> <td>   96.080</td> <td>   97.123</td>\n",
       "</tr>\n",
       "<tr>\n",
       "  <th>restecg</th> <td>   71.9955</td> <td>    0.115</td> <td>  624.997</td> <td> 0.000</td> <td>   71.770</td> <td>   72.221</td>\n",
       "</tr>\n",
       "<tr>\n",
       "  <th>num</th>     <td>   30.8607</td> <td>    0.100</td> <td>  307.692</td> <td> 0.000</td> <td>   30.664</td> <td>   31.057</td>\n",
       "</tr>\n",
       "</table>\n",
       "<table class=\"simpletable\">\n",
       "<tr>\n",
       "  <th>Omnibus:</th>       <td>6258.949</td> <th>  Durbin-Watson:     </th> <td>   1.512</td>\n",
       "</tr>\n",
       "<tr>\n",
       "  <th>Prob(Omnibus):</th>  <td> 0.000</td>  <th>  Jarque-Bera (JB):  </th> <td>5426.785</td>\n",
       "</tr>\n",
       "<tr>\n",
       "  <th>Skew:</th>           <td>-0.129</td>  <th>  Prob(JB):          </th> <td>    0.00</td>\n",
       "</tr>\n",
       "<tr>\n",
       "  <th>Kurtosis:</th>       <td> 2.747</td>  <th>  Cond. No.          </th> <td>    5.84</td>\n",
       "</tr>\n",
       "</table><br/><br/>Warnings:<br/>[1] Standard Errors assume that the covariance matrix of the errors is correctly specified."
      ],
      "text/plain": [
       "<class 'statsmodels.iolib.summary.Summary'>\n",
       "\"\"\"\n",
       "                                 OLS Regression Results                                \n",
       "=======================================================================================\n",
       "Dep. Variable:                   chol   R-squared (uncentered):                   0.719\n",
       "Model:                            OLS   Adj. R-squared (uncentered):              0.719\n",
       "Method:                 Least Squares   F-statistic:                          5.129e+05\n",
       "Date:                Tue, 05 Nov 2019   Prob (F-statistic):                        0.00\n",
       "Time:                        13:39:47   Log-Likelihood:                     -6.3133e+06\n",
       "No. Observations:             1000000   AIC:                                  1.263e+07\n",
       "Df Residuals:                  999995   BIC:                                  1.263e+07\n",
       "Df Model:                           5                                                  \n",
       "Covariance Type:            nonrobust                                                  \n",
       "==============================================================================\n",
       "                 coef    std err          t      P>|t|      [0.025      0.975]\n",
       "------------------------------------------------------------------------------\n",
       "fbs           80.7102      0.361    223.567      0.000      80.003      81.418\n",
       "ca            40.9546      0.147    279.097      0.000      40.667      41.242\n",
       "exang         96.6010      0.266    363.064      0.000      96.080      97.123\n",
       "restecg       71.9955      0.115    624.997      0.000      71.770      72.221\n",
       "num           30.8607      0.100    307.692      0.000      30.664      31.057\n",
       "==============================================================================\n",
       "Omnibus:                     6258.949   Durbin-Watson:                   1.512\n",
       "Prob(Omnibus):                  0.000   Jarque-Bera (JB):             5426.785\n",
       "Skew:                          -0.129   Prob(JB):                         0.00\n",
       "Kurtosis:                       2.747   Cond. No.                         5.84\n",
       "==============================================================================\n",
       "\n",
       "Warnings:\n",
       "[1] Standard Errors assume that the covariance matrix of the errors is correctly specified.\n",
       "\"\"\""
      ]
     },
     "metadata": {},
     "output_type": "display_data"
    },
    {
     "data": {
      "text/plain": [
       "<statsmodels.regression.linear_model.RegressionResultsWrapper at 0x1c45fdda20>"
      ]
     },
     "execution_count": 33,
     "metadata": {},
     "output_type": "execute_result"
    }
   ],
   "source": [
    "make_ols(df, columns_to_use=vif_scores_sorted_top5, display_summary=True)"
   ]
  },
  {
   "cell_type": "markdown",
   "metadata": {},
   "source": [
    "### If you have a good predictor column, you gotta fight for it\n",
    "- build a model of your columns against the one you are investigating\n",
    "    - top5 results vs age\n",
    "- check that r2 score"
   ]
  },
  {
   "cell_type": "code",
   "execution_count": 41,
   "metadata": {},
   "outputs": [
    {
     "data": {
      "text/html": [
       "<table class=\"simpletable\">\n",
       "<caption>OLS Regression Results</caption>\n",
       "<tr>\n",
       "  <th>Dep. Variable:</th>           <td>age</td>       <th>  R-squared (uncentered):</th>       <td>   0.476</td>  \n",
       "</tr>\n",
       "<tr>\n",
       "  <th>Model:</th>                   <td>OLS</td>       <th>  Adj. R-squared (uncentered):</th>  <td>   0.476</td>  \n",
       "</tr>\n",
       "<tr>\n",
       "  <th>Method:</th>             <td>Least Squares</td>  <th>  F-statistic:       </th>           <td>4.544e+05</td> \n",
       "</tr>\n",
       "<tr>\n",
       "  <th>Date:</th>             <td>Tue, 05 Nov 2019</td> <th>  Prob (F-statistic):</th>            <td>  0.00</td>   \n",
       "</tr>\n",
       "<tr>\n",
       "  <th>Time:</th>                 <td>13:45:45</td>     <th>  Log-Likelihood:    </th>          <td>-5.1070e+06</td>\n",
       "</tr>\n",
       "<tr>\n",
       "  <th>No. Observations:</th>      <td>1000000</td>     <th>  AIC:               </th>           <td>1.021e+07</td> \n",
       "</tr>\n",
       "<tr>\n",
       "  <th>Df Residuals:</th>          <td>999998</td>      <th>  BIC:               </th>           <td>1.021e+07</td> \n",
       "</tr>\n",
       "<tr>\n",
       "  <th>Df Model:</th>              <td>     2</td>      <th>                     </th>               <td> </td>     \n",
       "</tr>\n",
       "<tr>\n",
       "  <th>Covariance Type:</th>      <td>nonrobust</td>    <th>                     </th>               <td> </td>     \n",
       "</tr>\n",
       "</table>\n",
       "<table class=\"simpletable\">\n",
       "<tr>\n",
       "   <td></td>      <th>coef</th>     <th>std err</th>      <th>t</th>      <th>P>|t|</th>  <th>[0.025</th>    <th>0.975]</th>  \n",
       "</tr>\n",
       "<tr>\n",
       "  <th>ca</th>  <td>   14.7943</td> <td>    0.043</td> <td>  346.492</td> <td> 0.000</td> <td>   14.711</td> <td>   14.878</td>\n",
       "</tr>\n",
       "<tr>\n",
       "  <th>num</th> <td>   14.2018</td> <td>    0.028</td> <td>  509.154</td> <td> 0.000</td> <td>   14.147</td> <td>   14.256</td>\n",
       "</tr>\n",
       "</table>\n",
       "<table class=\"simpletable\">\n",
       "<tr>\n",
       "  <th>Omnibus:</th>       <td>69938.310</td> <th>  Durbin-Watson:     </th> <td>   1.025</td> \n",
       "</tr>\n",
       "<tr>\n",
       "  <th>Prob(Omnibus):</th>  <td> 0.000</td>   <th>  Jarque-Bera (JB):  </th> <td>79666.750</td>\n",
       "</tr>\n",
       "<tr>\n",
       "  <th>Skew:</th>           <td>-0.668</td>   <th>  Prob(JB):          </th> <td>    0.00</td> \n",
       "</tr>\n",
       "<tr>\n",
       "  <th>Kurtosis:</th>       <td> 2.643</td>   <th>  Cond. No.          </th> <td>    2.27</td> \n",
       "</tr>\n",
       "</table><br/><br/>Warnings:<br/>[1] Standard Errors assume that the covariance matrix of the errors is correctly specified."
      ],
      "text/plain": [
       "<class 'statsmodels.iolib.summary.Summary'>\n",
       "\"\"\"\n",
       "                                 OLS Regression Results                                \n",
       "=======================================================================================\n",
       "Dep. Variable:                    age   R-squared (uncentered):                   0.476\n",
       "Model:                            OLS   Adj. R-squared (uncentered):              0.476\n",
       "Method:                 Least Squares   F-statistic:                          4.544e+05\n",
       "Date:                Tue, 05 Nov 2019   Prob (F-statistic):                        0.00\n",
       "Time:                        13:45:45   Log-Likelihood:                     -5.1070e+06\n",
       "No. Observations:             1000000   AIC:                                  1.021e+07\n",
       "Df Residuals:                  999998   BIC:                                  1.021e+07\n",
       "Df Model:                           2                                                  \n",
       "Covariance Type:            nonrobust                                                  \n",
       "==============================================================================\n",
       "                 coef    std err          t      P>|t|      [0.025      0.975]\n",
       "------------------------------------------------------------------------------\n",
       "ca            14.7943      0.043    346.492      0.000      14.711      14.878\n",
       "num           14.2018      0.028    509.154      0.000      14.147      14.256\n",
       "==============================================================================\n",
       "Omnibus:                    69938.310   Durbin-Watson:                   1.025\n",
       "Prob(Omnibus):                  0.000   Jarque-Bera (JB):            79666.750\n",
       "Skew:                          -0.668   Prob(JB):                         0.00\n",
       "Kurtosis:                       2.643   Cond. No.                         2.27\n",
       "==============================================================================\n",
       "\n",
       "Warnings:\n",
       "[1] Standard Errors assume that the covariance matrix of the errors is correctly specified.\n",
       "\"\"\""
      ]
     },
     "metadata": {},
     "output_type": "display_data"
    },
    {
     "name": "stdout",
     "output_type": "stream",
     "text": [
      "1.9087224143204269\n"
     ]
    },
    {
     "data": {
      "text/plain": [
       "<statsmodels.regression.linear_model.RegressionResultsWrapper at 0x1c22191f98>"
      ]
     },
     "execution_count": 41,
     "metadata": {},
     "output_type": "execute_result"
    }
   ],
   "source": [
    "target = 'age'\n",
    "columns_to_use = ['ca', 'num']\n",
    "\n",
    "\n",
    "make_ols(df, columns_to_use=columns_to_use, target=target, display_summary=True)"
   ]
  },
  {
   "cell_type": "markdown",
   "metadata": {},
   "source": [
    "Removed 'fbs','exang', 'restecg' from our data because it caused high VIF with age"
   ]
  },
  {
   "cell_type": "markdown",
   "metadata": {},
   "source": [
    "### After removing columns that caused high VIF, we're retrying this with age"
   ]
  },
  {
   "cell_type": "code",
   "execution_count": 43,
   "metadata": {},
   "outputs": [
    {
     "data": {
      "text/html": [
       "<table class=\"simpletable\">\n",
       "<caption>OLS Regression Results</caption>\n",
       "<tr>\n",
       "  <th>Dep. Variable:</th>          <td>chol</td>       <th>  R-squared (uncentered):</th>       <td>   0.942</td>  \n",
       "</tr>\n",
       "<tr>\n",
       "  <th>Model:</th>                   <td>OLS</td>       <th>  Adj. R-squared (uncentered):</th>  <td>   0.942</td>  \n",
       "</tr>\n",
       "<tr>\n",
       "  <th>Method:</th>             <td>Least Squares</td>  <th>  F-statistic:       </th>           <td>1.611e+07</td> \n",
       "</tr>\n",
       "<tr>\n",
       "  <th>Date:</th>             <td>Tue, 05 Nov 2019</td> <th>  Prob (F-statistic):</th>            <td>  0.00</td>   \n",
       "</tr>\n",
       "<tr>\n",
       "  <th>Time:</th>                 <td>13:48:03</td>     <th>  Log-Likelihood:    </th>          <td>-5.5290e+06</td>\n",
       "</tr>\n",
       "<tr>\n",
       "  <th>No. Observations:</th>      <td>1000000</td>     <th>  AIC:               </th>           <td>1.106e+07</td> \n",
       "</tr>\n",
       "<tr>\n",
       "  <th>Df Residuals:</th>          <td>999999</td>      <th>  BIC:               </th>           <td>1.106e+07</td> \n",
       "</tr>\n",
       "<tr>\n",
       "  <th>Df Model:</th>              <td>     1</td>      <th>                     </th>               <td> </td>     \n",
       "</tr>\n",
       "<tr>\n",
       "  <th>Covariance Type:</th>      <td>nonrobust</td>    <th>                     </th>               <td> </td>     \n",
       "</tr>\n",
       "</table>\n",
       "<table class=\"simpletable\">\n",
       "<tr>\n",
       "   <td></td>      <th>coef</th>     <th>std err</th>      <th>t</th>      <th>P>|t|</th>  <th>[0.025</th>    <th>0.975]</th>  \n",
       "</tr>\n",
       "<tr>\n",
       "  <th>age</th> <td>    4.4303</td> <td>    0.001</td> <td> 4013.557</td> <td> 0.000</td> <td>    4.428</td> <td>    4.432</td>\n",
       "</tr>\n",
       "</table>\n",
       "<table class=\"simpletable\">\n",
       "<tr>\n",
       "  <th>Omnibus:</th>       <td>37942.779</td> <th>  Durbin-Watson:     </th> <td>   1.986</td> \n",
       "</tr>\n",
       "<tr>\n",
       "  <th>Prob(Omnibus):</th>  <td> 0.000</td>   <th>  Jarque-Bera (JB):  </th> <td>44089.212</td>\n",
       "</tr>\n",
       "<tr>\n",
       "  <th>Skew:</th>           <td> 0.459</td>   <th>  Prob(JB):          </th> <td>    0.00</td> \n",
       "</tr>\n",
       "<tr>\n",
       "  <th>Kurtosis:</th>       <td> 3.462</td>   <th>  Cond. No.          </th> <td>    1.00</td> \n",
       "</tr>\n",
       "</table><br/><br/>Warnings:<br/>[1] Standard Errors assume that the covariance matrix of the errors is correctly specified."
      ],
      "text/plain": [
       "<class 'statsmodels.iolib.summary.Summary'>\n",
       "\"\"\"\n",
       "                                 OLS Regression Results                                \n",
       "=======================================================================================\n",
       "Dep. Variable:                   chol   R-squared (uncentered):                   0.942\n",
       "Model:                            OLS   Adj. R-squared (uncentered):              0.942\n",
       "Method:                 Least Squares   F-statistic:                          1.611e+07\n",
       "Date:                Tue, 05 Nov 2019   Prob (F-statistic):                        0.00\n",
       "Time:                        13:48:03   Log-Likelihood:                     -5.5290e+06\n",
       "No. Observations:             1000000   AIC:                                  1.106e+07\n",
       "Df Residuals:                  999999   BIC:                                  1.106e+07\n",
       "Df Model:                           1                                                  \n",
       "Covariance Type:            nonrobust                                                  \n",
       "==============================================================================\n",
       "                 coef    std err          t      P>|t|      [0.025      0.975]\n",
       "------------------------------------------------------------------------------\n",
       "age            4.4303      0.001   4013.557      0.000       4.428       4.432\n",
       "==============================================================================\n",
       "Omnibus:                    37942.779   Durbin-Watson:                   1.986\n",
       "Prob(Omnibus):                  0.000   Jarque-Bera (JB):            44089.212\n",
       "Skew:                           0.459   Prob(JB):                         0.00\n",
       "Kurtosis:                       3.462   Cond. No.                         1.00\n",
       "==============================================================================\n",
       "\n",
       "Warnings:\n",
       "[1] Standard Errors assume that the covariance matrix of the errors is correctly specified.\n",
       "\"\"\""
      ]
     },
     "metadata": {},
     "output_type": "display_data"
    },
    {
     "name": "stdout",
     "output_type": "stream",
     "text": [
      "17.108654670202913\n"
     ]
    },
    {
     "data": {
      "text/plain": [
       "<statsmodels.regression.linear_model.RegressionResultsWrapper at 0x1c25f3bda0>"
      ]
     },
     "execution_count": 43,
     "metadata": {},
     "output_type": "execute_result"
    }
   ],
   "source": [
    "target = 'chol'\n",
    "columns_to_use = ['age', 'ca', 'num']\n",
    "\n",
    "\n",
    "make_ols(df, columns_to_use=columns_to_use, target=target, display_summary=True)"
   ]
  },
  {
   "cell_type": "code",
   "execution_count": 45,
   "metadata": {},
   "outputs": [
    {
     "data": {
      "text/html": [
       "<table class=\"simpletable\">\n",
       "<caption>OLS Regression Results</caption>\n",
       "<tr>\n",
       "  <th>Dep. Variable:</th>          <td>chol</td>       <th>  R-squared (uncentered):</th>       <td>   0.942</td>  \n",
       "</tr>\n",
       "<tr>\n",
       "  <th>Model:</th>                   <td>OLS</td>       <th>  Adj. R-squared (uncentered):</th>  <td>   0.942</td>  \n",
       "</tr>\n",
       "<tr>\n",
       "  <th>Method:</th>             <td>Least Squares</td>  <th>  F-statistic:       </th>           <td>1.611e+07</td> \n",
       "</tr>\n",
       "<tr>\n",
       "  <th>Date:</th>             <td>Tue, 05 Nov 2019</td> <th>  Prob (F-statistic):</th>            <td>  0.00</td>   \n",
       "</tr>\n",
       "<tr>\n",
       "  <th>Time:</th>                 <td>13:48:51</td>     <th>  Log-Likelihood:    </th>          <td>-5.5290e+06</td>\n",
       "</tr>\n",
       "<tr>\n",
       "  <th>No. Observations:</th>      <td>1000000</td>     <th>  AIC:               </th>           <td>1.106e+07</td> \n",
       "</tr>\n",
       "<tr>\n",
       "  <th>Df Residuals:</th>          <td>999999</td>      <th>  BIC:               </th>           <td>1.106e+07</td> \n",
       "</tr>\n",
       "<tr>\n",
       "  <th>Df Model:</th>              <td>     1</td>      <th>                     </th>               <td> </td>     \n",
       "</tr>\n",
       "<tr>\n",
       "  <th>Covariance Type:</th>      <td>nonrobust</td>    <th>                     </th>               <td> </td>     \n",
       "</tr>\n",
       "</table>\n",
       "<table class=\"simpletable\">\n",
       "<tr>\n",
       "   <td></td>      <th>coef</th>     <th>std err</th>      <th>t</th>      <th>P>|t|</th>  <th>[0.025</th>    <th>0.975]</th>  \n",
       "</tr>\n",
       "<tr>\n",
       "  <th>age</th> <td>    4.4303</td> <td>    0.001</td> <td> 4013.557</td> <td> 0.000</td> <td>    4.428</td> <td>    4.432</td>\n",
       "</tr>\n",
       "</table>\n",
       "<table class=\"simpletable\">\n",
       "<tr>\n",
       "  <th>Omnibus:</th>       <td>37942.779</td> <th>  Durbin-Watson:     </th> <td>   1.986</td> \n",
       "</tr>\n",
       "<tr>\n",
       "  <th>Prob(Omnibus):</th>  <td> 0.000</td>   <th>  Jarque-Bera (JB):  </th> <td>44089.212</td>\n",
       "</tr>\n",
       "<tr>\n",
       "  <th>Skew:</th>           <td> 0.459</td>   <th>  Prob(JB):          </th> <td>    0.00</td> \n",
       "</tr>\n",
       "<tr>\n",
       "  <th>Kurtosis:</th>       <td> 3.462</td>   <th>  Cond. No.          </th> <td>    1.00</td> \n",
       "</tr>\n",
       "</table><br/><br/>Warnings:<br/>[1] Standard Errors assume that the covariance matrix of the errors is correctly specified."
      ],
      "text/plain": [
       "<class 'statsmodels.iolib.summary.Summary'>\n",
       "\"\"\"\n",
       "                                 OLS Regression Results                                \n",
       "=======================================================================================\n",
       "Dep. Variable:                   chol   R-squared (uncentered):                   0.942\n",
       "Model:                            OLS   Adj. R-squared (uncentered):              0.942\n",
       "Method:                 Least Squares   F-statistic:                          1.611e+07\n",
       "Date:                Tue, 05 Nov 2019   Prob (F-statistic):                        0.00\n",
       "Time:                        13:48:51   Log-Likelihood:                     -5.5290e+06\n",
       "No. Observations:             1000000   AIC:                                  1.106e+07\n",
       "Df Residuals:                  999999   BIC:                                  1.106e+07\n",
       "Df Model:                           1                                                  \n",
       "Covariance Type:            nonrobust                                                  \n",
       "==============================================================================\n",
       "                 coef    std err          t      P>|t|      [0.025      0.975]\n",
       "------------------------------------------------------------------------------\n",
       "age            4.4303      0.001   4013.557      0.000       4.428       4.432\n",
       "==============================================================================\n",
       "Omnibus:                    37942.779   Durbin-Watson:                   1.986\n",
       "Prob(Omnibus):                  0.000   Jarque-Bera (JB):            44089.212\n",
       "Skew:                           0.459   Prob(JB):                         0.00\n",
       "Kurtosis:                       3.462   Cond. No.                         1.00\n",
       "==============================================================================\n",
       "\n",
       "Warnings:\n",
       "[1] Standard Errors assume that the covariance matrix of the errors is correctly specified.\n",
       "\"\"\""
      ]
     },
     "metadata": {},
     "output_type": "display_data"
    },
    {
     "name": "stdout",
     "output_type": "stream",
     "text": [
      "17.108654670202913\n"
     ]
    },
    {
     "data": {
      "text/plain": [
       "<statsmodels.regression.linear_model.RegressionResultsWrapper at 0x1c26984128>"
      ]
     },
     "execution_count": 45,
     "metadata": {},
     "output_type": "execute_result"
    }
   ],
   "source": [
    "# consider using only age, since there can't be multicollniearity\n",
    "\n",
    "make_ols(df, columns_to_use=['age'], display_summary=True)"
   ]
  },
  {
   "cell_type": "markdown",
   "metadata": {},
   "source": [
    "### Even though age has a high R2 by itself, it might be worth using the signals of the other metrics\n"
   ]
  },
  {
   "cell_type": "code",
   "execution_count": 58,
   "metadata": {},
   "outputs": [
    {
     "data": {
      "text/html": [
       "<table class=\"simpletable\">\n",
       "<caption>OLS Regression Results</caption>\n",
       "<tr>\n",
       "  <th>Dep. Variable:</th>          <td>chol</td>       <th>  R-squared (uncentered):</th>       <td>   0.719</td>  \n",
       "</tr>\n",
       "<tr>\n",
       "  <th>Model:</th>                   <td>OLS</td>       <th>  Adj. R-squared (uncentered):</th>  <td>   0.719</td>  \n",
       "</tr>\n",
       "<tr>\n",
       "  <th>Method:</th>             <td>Least Squares</td>  <th>  F-statistic:       </th>           <td>5.129e+05</td> \n",
       "</tr>\n",
       "<tr>\n",
       "  <th>Date:</th>             <td>Tue, 05 Nov 2019</td> <th>  Prob (F-statistic):</th>            <td>  0.00</td>   \n",
       "</tr>\n",
       "<tr>\n",
       "  <th>Time:</th>                 <td>13:57:28</td>     <th>  Log-Likelihood:    </th>          <td>-6.3133e+06</td>\n",
       "</tr>\n",
       "<tr>\n",
       "  <th>No. Observations:</th>      <td>1000000</td>     <th>  AIC:               </th>           <td>1.263e+07</td> \n",
       "</tr>\n",
       "<tr>\n",
       "  <th>Df Residuals:</th>          <td>999995</td>      <th>  BIC:               </th>           <td>1.263e+07</td> \n",
       "</tr>\n",
       "<tr>\n",
       "  <th>Df Model:</th>              <td>     5</td>      <th>                     </th>               <td> </td>     \n",
       "</tr>\n",
       "<tr>\n",
       "  <th>Covariance Type:</th>      <td>nonrobust</td>    <th>                     </th>               <td> </td>     \n",
       "</tr>\n",
       "</table>\n",
       "<table class=\"simpletable\">\n",
       "<tr>\n",
       "     <td></td>        <th>coef</th>     <th>std err</th>      <th>t</th>      <th>P>|t|</th>  <th>[0.025</th>    <th>0.975]</th>  \n",
       "</tr>\n",
       "<tr>\n",
       "  <th>fbs</th>     <td>   80.7102</td> <td>    0.361</td> <td>  223.567</td> <td> 0.000</td> <td>   80.003</td> <td>   81.418</td>\n",
       "</tr>\n",
       "<tr>\n",
       "  <th>ca</th>      <td>   40.9546</td> <td>    0.147</td> <td>  279.097</td> <td> 0.000</td> <td>   40.667</td> <td>   41.242</td>\n",
       "</tr>\n",
       "<tr>\n",
       "  <th>exang</th>   <td>   96.6010</td> <td>    0.266</td> <td>  363.064</td> <td> 0.000</td> <td>   96.080</td> <td>   97.123</td>\n",
       "</tr>\n",
       "<tr>\n",
       "  <th>restecg</th> <td>   71.9955</td> <td>    0.115</td> <td>  624.997</td> <td> 0.000</td> <td>   71.770</td> <td>   72.221</td>\n",
       "</tr>\n",
       "<tr>\n",
       "  <th>num</th>     <td>   30.8607</td> <td>    0.100</td> <td>  307.692</td> <td> 0.000</td> <td>   30.664</td> <td>   31.057</td>\n",
       "</tr>\n",
       "</table>\n",
       "<table class=\"simpletable\">\n",
       "<tr>\n",
       "  <th>Omnibus:</th>       <td>6258.949</td> <th>  Durbin-Watson:     </th> <td>   1.512</td>\n",
       "</tr>\n",
       "<tr>\n",
       "  <th>Prob(Omnibus):</th>  <td> 0.000</td>  <th>  Jarque-Bera (JB):  </th> <td>5426.785</td>\n",
       "</tr>\n",
       "<tr>\n",
       "  <th>Skew:</th>           <td>-0.129</td>  <th>  Prob(JB):          </th> <td>    0.00</td>\n",
       "</tr>\n",
       "<tr>\n",
       "  <th>Kurtosis:</th>       <td> 2.747</td>  <th>  Cond. No.          </th> <td>    5.84</td>\n",
       "</tr>\n",
       "</table><br/><br/>Warnings:<br/>[1] Standard Errors assume that the covariance matrix of the errors is correctly specified."
      ],
      "text/plain": [
       "<class 'statsmodels.iolib.summary.Summary'>\n",
       "\"\"\"\n",
       "                                 OLS Regression Results                                \n",
       "=======================================================================================\n",
       "Dep. Variable:                   chol   R-squared (uncentered):                   0.719\n",
       "Model:                            OLS   Adj. R-squared (uncentered):              0.719\n",
       "Method:                 Least Squares   F-statistic:                          5.129e+05\n",
       "Date:                Tue, 05 Nov 2019   Prob (F-statistic):                        0.00\n",
       "Time:                        13:57:28   Log-Likelihood:                     -6.3133e+06\n",
       "No. Observations:             1000000   AIC:                                  1.263e+07\n",
       "Df Residuals:                  999995   BIC:                                  1.263e+07\n",
       "Df Model:                           5                                                  \n",
       "Covariance Type:            nonrobust                                                  \n",
       "==============================================================================\n",
       "                 coef    std err          t      P>|t|      [0.025      0.975]\n",
       "------------------------------------------------------------------------------\n",
       "fbs           80.7102      0.361    223.567      0.000      80.003      81.418\n",
       "ca            40.9546      0.147    279.097      0.000      40.667      41.242\n",
       "exang         96.6010      0.266    363.064      0.000      96.080      97.123\n",
       "restecg       71.9955      0.115    624.997      0.000      71.770      72.221\n",
       "num           30.8607      0.100    307.692      0.000      30.664      31.057\n",
       "==============================================================================\n",
       "Omnibus:                     6258.949   Durbin-Watson:                   1.512\n",
       "Prob(Omnibus):                  0.000   Jarque-Bera (JB):             5426.785\n",
       "Skew:                          -0.129   Prob(JB):                         0.00\n",
       "Kurtosis:                       2.747   Cond. No.                         5.84\n",
       "==============================================================================\n",
       "\n",
       "Warnings:\n",
       "[1] Standard Errors assume that the covariance matrix of the errors is correctly specified.\n",
       "\"\"\""
      ]
     },
     "metadata": {},
     "output_type": "display_data"
    },
    {
     "name": "stdout",
     "output_type": "stream",
     "text": [
      "3.5642688469425305\n"
     ]
    },
    {
     "data": {
      "text/plain": [
       "<statsmodels.regression.linear_model.RegressionResultsWrapper at 0x1c25be1048>"
      ]
     },
     "execution_count": 58,
     "metadata": {},
     "output_type": "execute_result"
    }
   ],
   "source": [
    "make_ols(df, columns_to_use=vif_scores_sorted_top5, display_summary=True)"
   ]
  },
  {
   "cell_type": "markdown",
   "metadata": {},
   "source": [
    "### Cross Validate"
   ]
  },
  {
   "cell_type": "code",
   "execution_count": 53,
   "metadata": {},
   "outputs": [
    {
     "name": "stderr",
     "output_type": "stream",
     "text": [
      "[Parallel(n_jobs=-1)]: Using backend LokyBackend with 8 concurrent workers.\n",
      "[Parallel(n_jobs=-1)]: Done   2 out of   5 | elapsed:    0.8s remaining:    1.2s\n",
      "[Parallel(n_jobs=-1)]: Done   5 out of   5 | elapsed:    1.0s finished\n"
     ]
    },
    {
     "data": {
      "text/plain": [
       "(array([0.04223019, 0.04125387, 0.0409972 , 0.04301219, 0.04126768]),\n",
       " 0.04175222693576415)"
      ]
     },
     "execution_count": 53,
     "metadata": {},
     "output_type": "execute_result"
    }
   ],
   "source": [
    "reg = LinearRegression(fit_intercept=True)\n",
    "cv = cross_val_score(reg, df[vif_scores_sorted_top5], y=df['chol'], cv = 5, scoring=make_scorer(r2_score), verbose=1, n_jobs=-1)\n",
    "cv, cv.mean()"
   ]
  },
  {
   "cell_type": "code",
   "execution_count": 54,
   "metadata": {},
   "outputs": [],
   "source": [
    "X = df[vif_scores_sorted_top5]\n",
    "y = df['chol']\n",
    "\n",
    "X_train, X_test, y_train, y_test = train_test_split(X, y, test_size=0.15)"
   ]
  },
  {
   "cell_type": "code",
   "execution_count": 59,
   "metadata": {},
   "outputs": [
    {
     "data": {
      "text/plain": [
       "-5.6611375868985245"
      ]
     },
     "execution_count": 59,
     "metadata": {},
     "output_type": "execute_result"
    }
   ],
   "source": [
    "reg = LinearRegression(fit_intercept=False)\n",
    "reg.fit(X_train, y_train)\n",
    "reg.score(X_test, y_test)"
   ]
  },
  {
   "cell_type": "code",
   "execution_count": 60,
   "metadata": {},
   "outputs": [
    {
     "data": {
      "image/png": "[encoded data removed]",
      "text/plain": [
       "<Figure size 432x288 with 1 Axes>"
      ]
     },
     "metadata": {
      "needs_background": "light"
     },
     "output_type": "display_data"
    }
   ],
   "source": [
    "sns.distplot(df['chol'])\n",
    "plt.show()"
   ]
  },
  {
   "cell_type": "markdown",
   "metadata": {},
   "source": [
    "### Let's apply a standard scaler to our data"
   ]
  },
  {
   "cell_type": "code",
   "execution_count": 62,
   "metadata": {},
   "outputs": [],
   "source": [
    "ss = StandardScaler()"
   ]
  },
  {
   "cell_type": "code",
   "execution_count": 63,
   "metadata": {},
   "outputs": [
    {
     "data": {
      "text/plain": [
       "StandardScaler(copy=True, with_mean=True, with_std=True)"
      ]
     },
     "execution_count": 63,
     "metadata": {},
     "output_type": "execute_result"
    }
   ],
   "source": [
    "ss.fit(X_train)"
   ]
  },
  {
   "cell_type": "code",
   "execution_count": 67,
   "metadata": {},
   "outputs": [
    {
     "data": {
      "text/plain": [
       "StandardScaler(copy=True, with_mean=True, with_std=True)"
      ]
     },
     "execution_count": 67,
     "metadata": {},
     "output_type": "execute_result"
    }
   ],
   "source": [
    "ss.fit(X_train)"
   ]
  },
  {
   "cell_type": "code",
   "execution_count": 68,
   "metadata": {},
   "outputs": [],
   "source": [
    "X_ss_train = ss.transform(X_train)\n",
    "X_ss_test = ss.transform(X_test)"
   ]
  },
  {
   "cell_type": "code",
   "execution_count": 69,
   "metadata": {},
   "outputs": [
    {
     "data": {
      "text/plain": [
       "0.040544982359357884"
      ]
     },
     "execution_count": 69,
     "metadata": {},
     "output_type": "execute_result"
    }
   ],
   "source": [
    "reg = LinearRegression(fit_intercept=True)\n",
    "reg.fit(X_ss_train, y_train)\n",
    "reg.score(X_ss_test, y_test)"
   ]
  },
  {
   "cell_type": "code",
   "execution_count": 70,
   "metadata": {},
   "outputs": [],
   "source": [
    "X_ss = ss.fit_transform(X)"
   ]
  },
  {
   "cell_type": "code",
   "execution_count": 71,
   "metadata": {},
   "outputs": [],
   "source": [
    "linreg = sm.OLS(df['chol'], X).fit()"
   ]
  },
  {
   "cell_type": "code",
   "execution_count": 72,
   "metadata": {},
   "outputs": [
    {
     "data": {
      "text/html": [
       "<table class=\"simpletable\">\n",
       "<caption>OLS Regression Results</caption>\n",
       "<tr>\n",
       "  <th>Dep. Variable:</th>          <td>chol</td>       <th>  R-squared (uncentered):</th>       <td>   0.719</td>  \n",
       "</tr>\n",
       "<tr>\n",
       "  <th>Model:</th>                   <td>OLS</td>       <th>  Adj. R-squared (uncentered):</th>  <td>   0.719</td>  \n",
       "</tr>\n",
       "<tr>\n",
       "  <th>Method:</th>             <td>Least Squares</td>  <th>  F-statistic:       </th>           <td>5.129e+05</td> \n",
       "</tr>\n",
       "<tr>\n",
       "  <th>Date:</th>             <td>Tue, 05 Nov 2019</td> <th>  Prob (F-statistic):</th>            <td>  0.00</td>   \n",
       "</tr>\n",
       "<tr>\n",
       "  <th>Time:</th>                 <td>14:02:07</td>     <th>  Log-Likelihood:    </th>          <td>-6.3133e+06</td>\n",
       "</tr>\n",
       "<tr>\n",
       "  <th>No. Observations:</th>      <td>1000000</td>     <th>  AIC:               </th>           <td>1.263e+07</td> \n",
       "</tr>\n",
       "<tr>\n",
       "  <th>Df Residuals:</th>          <td>999995</td>      <th>  BIC:               </th>           <td>1.263e+07</td> \n",
       "</tr>\n",
       "<tr>\n",
       "  <th>Df Model:</th>              <td>     5</td>      <th>                     </th>               <td> </td>     \n",
       "</tr>\n",
       "<tr>\n",
       "  <th>Covariance Type:</th>      <td>nonrobust</td>    <th>                     </th>               <td> </td>     \n",
       "</tr>\n",
       "</table>\n",
       "<table class=\"simpletable\">\n",
       "<tr>\n",
       "     <td></td>        <th>coef</th>     <th>std err</th>      <th>t</th>      <th>P>|t|</th>  <th>[0.025</th>    <th>0.975]</th>  \n",
       "</tr>\n",
       "<tr>\n",
       "  <th>fbs</th>     <td>   80.7102</td> <td>    0.361</td> <td>  223.567</td> <td> 0.000</td> <td>   80.003</td> <td>   81.418</td>\n",
       "</tr>\n",
       "<tr>\n",
       "  <th>ca</th>      <td>   40.9546</td> <td>    0.147</td> <td>  279.097</td> <td> 0.000</td> <td>   40.667</td> <td>   41.242</td>\n",
       "</tr>\n",
       "<tr>\n",
       "  <th>exang</th>   <td>   96.6010</td> <td>    0.266</td> <td>  363.064</td> <td> 0.000</td> <td>   96.080</td> <td>   97.123</td>\n",
       "</tr>\n",
       "<tr>\n",
       "  <th>restecg</th> <td>   71.9955</td> <td>    0.115</td> <td>  624.997</td> <td> 0.000</td> <td>   71.770</td> <td>   72.221</td>\n",
       "</tr>\n",
       "<tr>\n",
       "  <th>num</th>     <td>   30.8607</td> <td>    0.100</td> <td>  307.692</td> <td> 0.000</td> <td>   30.664</td> <td>   31.057</td>\n",
       "</tr>\n",
       "</table>\n",
       "<table class=\"simpletable\">\n",
       "<tr>\n",
       "  <th>Omnibus:</th>       <td>6258.949</td> <th>  Durbin-Watson:     </th> <td>   1.512</td>\n",
       "</tr>\n",
       "<tr>\n",
       "  <th>Prob(Omnibus):</th>  <td> 0.000</td>  <th>  Jarque-Bera (JB):  </th> <td>5426.785</td>\n",
       "</tr>\n",
       "<tr>\n",
       "  <th>Skew:</th>           <td>-0.129</td>  <th>  Prob(JB):          </th> <td>    0.00</td>\n",
       "</tr>\n",
       "<tr>\n",
       "  <th>Kurtosis:</th>       <td> 2.747</td>  <th>  Cond. No.          </th> <td>    5.84</td>\n",
       "</tr>\n",
       "</table><br/><br/>Warnings:<br/>[1] Standard Errors assume that the covariance matrix of the errors is correctly specified."
      ],
      "text/plain": [
       "<class 'statsmodels.iolib.summary.Summary'>\n",
       "\"\"\"\n",
       "                                 OLS Regression Results                                \n",
       "=======================================================================================\n",
       "Dep. Variable:                   chol   R-squared (uncentered):                   0.719\n",
       "Model:                            OLS   Adj. R-squared (uncentered):              0.719\n",
       "Method:                 Least Squares   F-statistic:                          5.129e+05\n",
       "Date:                Tue, 05 Nov 2019   Prob (F-statistic):                        0.00\n",
       "Time:                        14:02:07   Log-Likelihood:                     -6.3133e+06\n",
       "No. Observations:             1000000   AIC:                                  1.263e+07\n",
       "Df Residuals:                  999995   BIC:                                  1.263e+07\n",
       "Df Model:                           5                                                  \n",
       "Covariance Type:            nonrobust                                                  \n",
       "==============================================================================\n",
       "                 coef    std err          t      P>|t|      [0.025      0.975]\n",
       "------------------------------------------------------------------------------\n",
       "fbs           80.7102      0.361    223.567      0.000      80.003      81.418\n",
       "ca            40.9546      0.147    279.097      0.000      40.667      41.242\n",
       "exang         96.6010      0.266    363.064      0.000      96.080      97.123\n",
       "restecg       71.9955      0.115    624.997      0.000      71.770      72.221\n",
       "num           30.8607      0.100    307.692      0.000      30.664      31.057\n",
       "==============================================================================\n",
       "Omnibus:                     6258.949   Durbin-Watson:                   1.512\n",
       "Prob(Omnibus):                  0.000   Jarque-Bera (JB):             5426.785\n",
       "Skew:                          -0.129   Prob(JB):                         0.00\n",
       "Kurtosis:                       2.747   Cond. No.                         5.84\n",
       "==============================================================================\n",
       "\n",
       "Warnings:\n",
       "[1] Standard Errors assume that the covariance matrix of the errors is correctly specified.\n",
       "\"\"\""
      ]
     },
     "execution_count": 72,
     "metadata": {},
     "output_type": "execute_result"
    }
   ],
   "source": [
    "linreg.summary()"
   ]
  },
  {
   "cell_type": "markdown",
   "metadata": {},
   "source": [
    "### What did we learn?\n",
    "- How to find which features are causing multicollinearity\n",
    "- Check to see if it's possible to use good predictors\n",
    "- multicollinearity means when 1 variable can be explained using the other variables with a high r2"
   ]
  },
  {
   "cell_type": "markdown",
   "metadata": {},
   "source": [
    "### Assessment"
   ]
  }
 ],
 "metadata": {
  "kernelspec": {
   "display_name": "Python 3",
   "language": "python",
   "name": "python3"
  },
  "language_info": {
   "codemirror_mode": {
    "name": "ipython",
    "version": 3
   },
   "file_extension": ".py",
   "mimetype": "text/x-python",
   "name": "python",
   "nbconvert_exporter": "python",
   "pygments_lexer": "ipython3",
   "version": "3.6.0"
  }
 },
 "nbformat": 4,
 "nbformat_minor": 2
}
