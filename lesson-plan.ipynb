{
 "cells": [
  {
   "cell_type": "markdown",
   "metadata": {},
   "source": [
    "### Questions\n",
    "- No questions...yet."
   ]
  },
  {
   "cell_type": "markdown",
   "metadata": {},
   "source": [
    "Datasets:\n",
    "\n",
    "- Weather Data set found [here](https://www.kaggle.com/budincsevity/szeged-weather)"
   ]
  },
  {
   "cell_type": "markdown",
   "metadata": {},
   "source": [
    "### Objectives\n",
    "YWBAT\n",
    "* Apply techniques to solve a multiple linear regression problem\n",
    "* Create multilinear regression models and change them to optimize results"
   ]
  },
  {
   "cell_type": "markdown",
   "metadata": {},
   "source": [
    "### Outline\n",
    "- Clone lesson repo to your local\n",
    "- Breakout groups to build a model\n",
    "    - both people should be coding\n",
    "    - 1 person can screenshare\n",
    "    - you can divide work (divide and conquer!)\n",
    "    - Save 5-8 minutes to write a conclusion\n",
    "- Present model to the class (conclusion)"
   ]
  },
  {
   "cell_type": "code",
   "execution_count": 1,
   "metadata": {},
   "outputs": [],
   "source": [
    "import pandas as pd\n",
    "import numpy as np\n",
    "import scipy.stats as scs\n",
    "import statsmodels.api as stats\n",
    "\n",
    "from sklearn.model_selection import train_test_split\n",
    "\n",
    "import matplotlib.pyplot as plt\n",
    "import seaborn as sns"
   ]
  },
  {
   "cell_type": "markdown",
   "metadata": {},
   "source": [
    "### Task, build a model in 35-40 minutes and present it to the class \n",
    "Dataset - ```BNG_cholesterol.csv ```\n",
    "\n",
    "Target - ```chol```\n",
    "\n",
    "No. Features - ```13```"
   ]
  },
  {
   "cell_type": "code",
   "execution_count": 3,
   "metadata": {},
   "outputs": [
    {
     "data": {
      "text/html": [
       "<div>\n",
       "<style scoped>\n",
       "    .dataframe tbody tr th:only-of-type {\n",
       "        vertical-align: middle;\n",
       "    }\n",
       "\n",
       "    .dataframe tbody tr th {\n",
       "        vertical-align: top;\n",
       "    }\n",
       "\n",
       "    .dataframe thead th {\n",
       "        text-align: right;\n",
       "    }\n",
       "</style>\n",
       "<table border=\"1\" class=\"dataframe\">\n",
       "  <thead>\n",
       "    <tr style=\"text-align: right;\">\n",
       "      <th></th>\n",
       "      <th>age</th>\n",
       "      <th>sex</th>\n",
       "      <th>cp</th>\n",
       "      <th>trestbps</th>\n",
       "      <th>fbs</th>\n",
       "      <th>restecg</th>\n",
       "      <th>thalach</th>\n",
       "      <th>exang</th>\n",
       "      <th>oldpeak</th>\n",
       "      <th>slope</th>\n",
       "      <th>ca</th>\n",
       "      <th>thal</th>\n",
       "      <th>num</th>\n",
       "      <th>chol</th>\n",
       "    </tr>\n",
       "  </thead>\n",
       "  <tbody>\n",
       "    <tr>\n",
       "      <th>0</th>\n",
       "      <td>46.950938</td>\n",
       "      <td>1</td>\n",
       "      <td>1</td>\n",
       "      <td>165.981331</td>\n",
       "      <td>0</td>\n",
       "      <td>2</td>\n",
       "      <td>152.691434</td>\n",
       "      <td>0</td>\n",
       "      <td>1.774223</td>\n",
       "      <td>2</td>\n",
       "      <td>0</td>\n",
       "      <td>7</td>\n",
       "      <td>3</td>\n",
       "      <td>265.569780</td>\n",
       "    </tr>\n",
       "    <tr>\n",
       "      <th>1</th>\n",
       "      <td>47.359284</td>\n",
       "      <td>1</td>\n",
       "      <td>4</td>\n",
       "      <td>134.748286</td>\n",
       "      <td>0</td>\n",
       "      <td>2</td>\n",
       "      <td>132.079047</td>\n",
       "      <td>1</td>\n",
       "      <td>0.407640</td>\n",
       "      <td>2</td>\n",
       "      <td>0</td>\n",
       "      <td>7</td>\n",
       "      <td>0</td>\n",
       "      <td>269.368061</td>\n",
       "    </tr>\n",
       "    <tr>\n",
       "      <th>2</th>\n",
       "      <td>58.455787</td>\n",
       "      <td>1</td>\n",
       "      <td>4</td>\n",
       "      <td>129.456617</td>\n",
       "      <td>0</td>\n",
       "      <td>0</td>\n",
       "      <td>164.523754</td>\n",
       "      <td>1</td>\n",
       "      <td>5.284900</td>\n",
       "      <td>2</td>\n",
       "      <td>0</td>\n",
       "      <td>7</td>\n",
       "      <td>4</td>\n",
       "      <td>244.336917</td>\n",
       "    </tr>\n",
       "    <tr>\n",
       "      <th>3</th>\n",
       "      <td>56.070298</td>\n",
       "      <td>1</td>\n",
       "      <td>4</td>\n",
       "      <td>124.831749</td>\n",
       "      <td>0</td>\n",
       "      <td>2</td>\n",
       "      <td>181.453944</td>\n",
       "      <td>0</td>\n",
       "      <td>1.096476</td>\n",
       "      <td>1</td>\n",
       "      <td>1</td>\n",
       "      <td>7</td>\n",
       "      <td>2</td>\n",
       "      <td>237.985356</td>\n",
       "    </tr>\n",
       "    <tr>\n",
       "      <th>4</th>\n",
       "      <td>44.121116</td>\n",
       "      <td>1</td>\n",
       "      <td>4</td>\n",
       "      <td>109.887955</td>\n",
       "      <td>0</td>\n",
       "      <td>2</td>\n",
       "      <td>110.055090</td>\n",
       "      <td>1</td>\n",
       "      <td>0.437412</td>\n",
       "      <td>2</td>\n",
       "      <td>0</td>\n",
       "      <td>3</td>\n",
       "      <td>1</td>\n",
       "      <td>245.907334</td>\n",
       "    </tr>\n",
       "  </tbody>\n",
       "</table>\n",
       "</div>"
      ],
      "text/plain": [
       "         age  sex  cp    trestbps  fbs  restecg     thalach  exang   oldpeak  \\\n",
       "0  46.950938    1   1  165.981331    0        2  152.691434      0  1.774223   \n",
       "1  47.359284    1   4  134.748286    0        2  132.079047      1  0.407640   \n",
       "2  58.455787    1   4  129.456617    0        0  164.523754      1  5.284900   \n",
       "3  56.070298    1   4  124.831749    0        2  181.453944      0  1.096476   \n",
       "4  44.121116    1   4  109.887955    0        2  110.055090      1  0.437412   \n",
       "\n",
       "   slope  ca  thal  num        chol  \n",
       "0      2   0     7    3  265.569780  \n",
       "1      2   0     7    0  269.368061  \n",
       "2      2   0     7    4  244.336917  \n",
       "3      1   1     7    2  237.985356  \n",
       "4      2   0     3    1  245.907334  "
      ]
     },
     "execution_count": 3,
     "metadata": {},
     "output_type": "execute_result"
    }
   ],
   "source": [
    "df = pd.read_csv(\"./data/BNG_cholesterol.csv\")\n",
    "df.head()"
   ]
  },
  {
   "cell_type": "code",
   "execution_count": 16,
   "metadata": {},
   "outputs": [
    {
     "data": {
      "text/html": [
       "<table class=\"simpletable\">\n",
       "<caption>OLS Regression Results</caption>\n",
       "<tr>\n",
       "  <th>Dep. Variable:</th>          <td>chol</td>       <th>  R-squared:         </th>  <td>   0.959</td>  \n",
       "</tr>\n",
       "<tr>\n",
       "  <th>Model:</th>                   <td>OLS</td>       <th>  Adj. R-squared:    </th>  <td>   0.959</td>  \n",
       "</tr>\n",
       "<tr>\n",
       "  <th>Method:</th>             <td>Least Squares</td>  <th>  F-statistic:       </th>  <td>1.800e+06</td> \n",
       "</tr>\n",
       "<tr>\n",
       "  <th>Date:</th>             <td>Tue, 16 Jul 2019</td> <th>  Prob (F-statistic):</th>   <td>  0.00</td>   \n",
       "</tr>\n",
       "<tr>\n",
       "  <th>Time:</th>                 <td>14:43:57</td>     <th>  Log-Likelihood:    </th> <td>-5.3515e+06</td>\n",
       "</tr>\n",
       "<tr>\n",
       "  <th>No. Observations:</th>      <td>1000000</td>     <th>  AIC:               </th>  <td>1.070e+07</td> \n",
       "</tr>\n",
       "<tr>\n",
       "  <th>Df Residuals:</th>          <td>999987</td>      <th>  BIC:               </th>  <td>1.070e+07</td> \n",
       "</tr>\n",
       "<tr>\n",
       "  <th>Df Model:</th>              <td>    13</td>      <th>                     </th>      <td> </td>     \n",
       "</tr>\n",
       "<tr>\n",
       "  <th>Covariance Type:</th>      <td>nonrobust</td>    <th>                     </th>      <td> </td>     \n",
       "</tr>\n",
       "</table>\n",
       "<table class=\"simpletable\">\n",
       "<tr>\n",
       "      <td></td>        <th>coef</th>     <th>std err</th>      <th>t</th>      <th>P>|t|</th>  <th>[0.025</th>    <th>0.975]</th>  \n",
       "</tr>\n",
       "<tr>\n",
       "  <th>age</th>      <td>    1.4258</td> <td>    0.005</td> <td>  285.707</td> <td> 0.000</td> <td>    1.416</td> <td>    1.436</td>\n",
       "</tr>\n",
       "<tr>\n",
       "  <th>sex</th>      <td>  -13.2932</td> <td>    0.115</td> <td> -115.276</td> <td> 0.000</td> <td>  -13.519</td> <td>  -13.067</td>\n",
       "</tr>\n",
       "<tr>\n",
       "  <th>cp</th>       <td>    5.8796</td> <td>    0.054</td> <td>  109.203</td> <td> 0.000</td> <td>    5.774</td> <td>    5.985</td>\n",
       "</tr>\n",
       "<tr>\n",
       "  <th>trestbps</th> <td>    0.6679</td> <td>    0.002</td> <td>  283.377</td> <td> 0.000</td> <td>    0.663</td> <td>    0.672</td>\n",
       "</tr>\n",
       "<tr>\n",
       "  <th>fbs</th>      <td>    3.4092</td> <td>    0.142</td> <td>   24.068</td> <td> 0.000</td> <td>    3.132</td> <td>    3.687</td>\n",
       "</tr>\n",
       "<tr>\n",
       "  <th>restecg</th>  <td>    7.3749</td> <td>    0.052</td> <td>  143.157</td> <td> 0.000</td> <td>    7.274</td> <td>    7.476</td>\n",
       "</tr>\n",
       "<tr>\n",
       "  <th>thalach</th>  <td>    0.2956</td> <td>    0.002</td> <td>  159.151</td> <td> 0.000</td> <td>    0.292</td> <td>    0.299</td>\n",
       "</tr>\n",
       "<tr>\n",
       "  <th>exang</th>    <td>    2.8243</td> <td>    0.118</td> <td>   23.995</td> <td> 0.000</td> <td>    2.594</td> <td>    3.055</td>\n",
       "</tr>\n",
       "<tr>\n",
       "  <th>oldpeak</th>  <td>    0.2527</td> <td>    0.048</td> <td>    5.252</td> <td> 0.000</td> <td>    0.158</td> <td>    0.347</td>\n",
       "</tr>\n",
       "<tr>\n",
       "  <th>slope</th>    <td>    2.3585</td> <td>    0.085</td> <td>   27.851</td> <td> 0.000</td> <td>    2.193</td> <td>    2.524</td>\n",
       "</tr>\n",
       "<tr>\n",
       "  <th>ca</th>       <td>    7.0432</td> <td>    0.058</td> <td>  121.056</td> <td> 0.000</td> <td>    6.929</td> <td>    7.157</td>\n",
       "</tr>\n",
       "<tr>\n",
       "  <th>thal</th>     <td>    1.6654</td> <td>    0.030</td> <td>   55.635</td> <td> 0.000</td> <td>    1.607</td> <td>    1.724</td>\n",
       "</tr>\n",
       "<tr>\n",
       "  <th>num</th>      <td>    0.6076</td> <td>    0.043</td> <td>   14.289</td> <td> 0.000</td> <td>    0.524</td> <td>    0.691</td>\n",
       "</tr>\n",
       "</table>\n",
       "<table class=\"simpletable\">\n",
       "<tr>\n",
       "  <th>Omnibus:</th>       <td>72929.043</td> <th>  Durbin-Watson:     </th> <td>   2.001</td> \n",
       "</tr>\n",
       "<tr>\n",
       "  <th>Prob(Omnibus):</th>  <td> 0.000</td>   <th>  Jarque-Bera (JB):  </th> <td>96856.071</td>\n",
       "</tr>\n",
       "<tr>\n",
       "  <th>Skew:</th>           <td> 0.648</td>   <th>  Prob(JB):          </th> <td>    0.00</td> \n",
       "</tr>\n",
       "<tr>\n",
       "  <th>Kurtosis:</th>       <td> 3.803</td>   <th>  Cond. No.          </th> <td>    576.</td> \n",
       "</tr>\n",
       "</table><br/><br/>Warnings:<br/>[1] Standard Errors assume that the covariance matrix of the errors is correctly specified."
      ],
      "text/plain": [
       "<class 'statsmodels.iolib.summary.Summary'>\n",
       "\"\"\"\n",
       "                            OLS Regression Results                            \n",
       "==============================================================================\n",
       "Dep. Variable:                   chol   R-squared:                       0.959\n",
       "Model:                            OLS   Adj. R-squared:                  0.959\n",
       "Method:                 Least Squares   F-statistic:                 1.800e+06\n",
       "Date:                Tue, 16 Jul 2019   Prob (F-statistic):               0.00\n",
       "Time:                        14:43:57   Log-Likelihood:            -5.3515e+06\n",
       "No. Observations:             1000000   AIC:                         1.070e+07\n",
       "Df Residuals:                  999987   BIC:                         1.070e+07\n",
       "Df Model:                          13                                         \n",
       "Covariance Type:            nonrobust                                         \n",
       "==============================================================================\n",
       "                 coef    std err          t      P>|t|      [0.025      0.975]\n",
       "------------------------------------------------------------------------------\n",
       "age            1.4258      0.005    285.707      0.000       1.416       1.436\n",
       "sex          -13.2932      0.115   -115.276      0.000     -13.519     -13.067\n",
       "cp             5.8796      0.054    109.203      0.000       5.774       5.985\n",
       "trestbps       0.6679      0.002    283.377      0.000       0.663       0.672\n",
       "fbs            3.4092      0.142     24.068      0.000       3.132       3.687\n",
       "restecg        7.3749      0.052    143.157      0.000       7.274       7.476\n",
       "thalach        0.2956      0.002    159.151      0.000       0.292       0.299\n",
       "exang          2.8243      0.118     23.995      0.000       2.594       3.055\n",
       "oldpeak        0.2527      0.048      5.252      0.000       0.158       0.347\n",
       "slope          2.3585      0.085     27.851      0.000       2.193       2.524\n",
       "ca             7.0432      0.058    121.056      0.000       6.929       7.157\n",
       "thal           1.6654      0.030     55.635      0.000       1.607       1.724\n",
       "num            0.6076      0.043     14.289      0.000       0.524       0.691\n",
       "==============================================================================\n",
       "Omnibus:                    72929.043   Durbin-Watson:                   2.001\n",
       "Prob(Omnibus):                  0.000   Jarque-Bera (JB):            96856.071\n",
       "Skew:                           0.648   Prob(JB):                         0.00\n",
       "Kurtosis:                       3.803   Cond. No.                         576.\n",
       "==============================================================================\n",
       "\n",
       "Warnings:\n",
       "[1] Standard Errors assume that the covariance matrix of the errors is correctly specified.\n",
       "\"\"\""
      ]
     },
     "execution_count": 16,
     "metadata": {},
     "output_type": "execute_result"
    }
   ],
   "source": [
    "res = stats.OLS(y, X).fit()\n",
    "res.summary()"
   ]
  },
  {
   "cell_type": "markdown",
   "metadata": {},
   "source": [
    "### High AIC/BIC and JB so residuals aren't normalized"
   ]
  },
  {
   "cell_type": "markdown",
   "metadata": {},
   "source": [
    "### What makes for good AIC/BIC?\n",
    "The lowest AIC/BIC\n",
    "\n",
    "- Akaike’s Inflation Coefficient\n",
    "- Bayes Inflation Coefficient - penalizes for number of features\n",
    "\n",
    "BIC - the leanest/meanest (low -> best) - penalizes features\n",
    "\n",
    "AIC - go between (accounting for explanation of variance and takes into account the sample size)"
   ]
  },
  {
   "cell_type": "markdown",
   "metadata": {},
   "source": [
    "### Tools to use\n",
    "\n",
    "> BoxCox will fit x to y in a linear relationship because it shows transformation needed to make x and y morenormally related\n",
    "\n",
    "https://docs.scipy.org/doc/scipy/reference/generated/scipy.stats.boxcox.html\n",
    "\n",
    ">VIF (Variance Inflation Factor)\n",
    "\n",
    "https://etav.github.io/python/vif_factor_python.html"
   ]
  },
  {
   "cell_type": "code",
   "execution_count": 19,
   "metadata": {},
   "outputs": [],
   "source": [
    "residuals = df.chol - res.predict()"
   ]
  },
  {
   "cell_type": "code",
   "execution_count": 20,
   "metadata": {},
   "outputs": [
    {
     "data": {
      "text/plain": [
       "<matplotlib.collections.PathCollection at 0x1a1e682748>"
      ]
     },
     "execution_count": 20,
     "metadata": {},
     "output_type": "execute_result"
    },
    {
     "data": {
      "image/png": "[encoded data removed]",
      "text/plain": [
       "<Figure size 432x288 with 1 Axes>"
      ]
     },
     "metadata": {
      "needs_background": "light"
     },
     "output_type": "display_data"
    }
   ],
   "source": [
    "xs = np.linspace(0, 1, len(residuals))\n",
    "plt.scatter(xs, residuals)"
   ]
  },
  {
   "cell_type": "markdown",
   "metadata": {},
   "source": [
    "### Track your model stats in stepwise selection:\n",
    "{mod1: {features_used:[], p_values:[], AIC:[], BIC:[], JB:[]}}"
   ]
  },
  {
   "cell_type": "markdown",
   "metadata": {},
   "source": [
    "### Clean Data"
   ]
  },
  {
   "cell_type": "code",
   "execution_count": null,
   "metadata": {},
   "outputs": [],
   "source": []
  },
  {
   "cell_type": "markdown",
   "metadata": {},
   "source": [
    "### Correlation Matrix + Interpretation"
   ]
  },
  {
   "cell_type": "code",
   "execution_count": null,
   "metadata": {},
   "outputs": [],
   "source": []
  },
  {
   "cell_type": "markdown",
   "metadata": {},
   "source": [
    "### Baseline Model Using scipy.stats"
   ]
  },
  {
   "cell_type": "code",
   "execution_count": null,
   "metadata": {},
   "outputs": [],
   "source": []
  },
  {
   "cell_type": "markdown",
   "metadata": {},
   "source": [
    "### Baseline Model Using sklearn"
   ]
  },
  {
   "cell_type": "code",
   "execution_count": null,
   "metadata": {},
   "outputs": [],
   "source": []
  },
  {
   "cell_type": "markdown",
   "metadata": {},
   "source": [
    "### Iterate through models"
   ]
  },
  {
   "cell_type": "code",
   "execution_count": null,
   "metadata": {},
   "outputs": [],
   "source": []
  },
  {
   "cell_type": "markdown",
   "metadata": {},
   "source": [
    "### Cross Validate"
   ]
  },
  {
   "cell_type": "code",
   "execution_count": null,
   "metadata": {},
   "outputs": [],
   "source": []
  },
  {
   "cell_type": "markdown",
   "metadata": {},
   "source": [
    "### Final Model Summary \n",
    "- What is your model?\n",
    "- What transformations/feature engineering/standardization did you do?\n",
    "- What features are you using and why?\n",
    "- Interpret your model features using their coefficients\n",
    "- Recommendations?"
   ]
  },
  {
   "cell_type": "code",
   "execution_count": null,
   "metadata": {},
   "outputs": [],
   "source": []
  },
  {
   "cell_type": "markdown",
   "metadata": {},
   "source": [
    "### Assessment"
   ]
  }
 ],
 "metadata": {
  "kernelspec": {
   "display_name": "Python 3",
   "language": "python",
   "name": "python3"
  },
  "language_info": {
   "codemirror_mode": {
    "name": "ipython",
    "version": 3
   },
   "file_extension": ".py",
   "mimetype": "text/x-python",
   "name": "python",
   "nbconvert_exporter": "python",
   "pygments_lexer": "ipython3",
   "version": "3.6.0"
  }
 },
 "nbformat": 4,
 "nbformat_minor": 2
}
