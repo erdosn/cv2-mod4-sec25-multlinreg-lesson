{
 "cells": [
  {
   "cell_type": "markdown",
   "metadata": {},
   "source": [
    "### Questions"
   ]
  },
  {
   "cell_type": "markdown",
   "metadata": {},
   "source": [
    "### Objectives\n",
    "* Apply techniques to solve a linear regression problem\n",
    "* Create multilinear regression models and change them to optimize results"
   ]
  },
  {
   "cell_type": "markdown",
   "metadata": {},
   "source": [
    "### Outline"
   ]
  },
  {
   "cell_type": "code",
   "execution_count": 1,
   "metadata": {},
   "outputs": [],
   "source": [
    "import pandas as pd\n",
    "import numpy as np\n",
    "\n",
    "import matplotlib.pyplot as plt\n",
    "import seaborn as sns"
   ]
  },
  {
   "cell_type": "markdown",
   "metadata": {},
   "source": [
    "### Task, build a model in 35-40 minutes and present it to the class \n",
    "Dataset - ```BNG_cholesterol.csv ```\n",
    "\n",
    "Target - ```chol```\n",
    "\n",
    "No. Features - ```13```"
   ]
  },
  {
   "cell_type": "code",
   "execution_count": 2,
   "metadata": {},
   "outputs": [
    {
     "data": {
      "text/html": [
       "<div>\n",
       "<style scoped>\n",
       "    .dataframe tbody tr th:only-of-type {\n",
       "        vertical-align: middle;\n",
       "    }\n",
       "\n",
       "    .dataframe tbody tr th {\n",
       "        vertical-align: top;\n",
       "    }\n",
       "\n",
       "    .dataframe thead th {\n",
       "        text-align: right;\n",
       "    }\n",
       "</style>\n",
       "<table border=\"1\" class=\"dataframe\">\n",
       "  <thead>\n",
       "    <tr style=\"text-align: right;\">\n",
       "      <th></th>\n",
       "      <th>age</th>\n",
       "      <th>sex</th>\n",
       "      <th>cp</th>\n",
       "      <th>trestbps</th>\n",
       "      <th>fbs</th>\n",
       "      <th>restecg</th>\n",
       "      <th>thalach</th>\n",
       "      <th>exang</th>\n",
       "      <th>oldpeak</th>\n",
       "      <th>slope</th>\n",
       "      <th>ca</th>\n",
       "      <th>thal</th>\n",
       "      <th>num</th>\n",
       "      <th>chol</th>\n",
       "    </tr>\n",
       "  </thead>\n",
       "  <tbody>\n",
       "    <tr>\n",
       "      <th>0</th>\n",
       "      <td>46.950938</td>\n",
       "      <td>1</td>\n",
       "      <td>1</td>\n",
       "      <td>165.981331</td>\n",
       "      <td>0</td>\n",
       "      <td>2</td>\n",
       "      <td>152.691434</td>\n",
       "      <td>0</td>\n",
       "      <td>1.774223</td>\n",
       "      <td>2</td>\n",
       "      <td>0</td>\n",
       "      <td>7</td>\n",
       "      <td>3</td>\n",
       "      <td>265.569780</td>\n",
       "    </tr>\n",
       "    <tr>\n",
       "      <th>1</th>\n",
       "      <td>47.359284</td>\n",
       "      <td>1</td>\n",
       "      <td>4</td>\n",
       "      <td>134.748286</td>\n",
       "      <td>0</td>\n",
       "      <td>2</td>\n",
       "      <td>132.079047</td>\n",
       "      <td>1</td>\n",
       "      <td>0.407640</td>\n",
       "      <td>2</td>\n",
       "      <td>0</td>\n",
       "      <td>7</td>\n",
       "      <td>0</td>\n",
       "      <td>269.368061</td>\n",
       "    </tr>\n",
       "    <tr>\n",
       "      <th>2</th>\n",
       "      <td>58.455787</td>\n",
       "      <td>1</td>\n",
       "      <td>4</td>\n",
       "      <td>129.456617</td>\n",
       "      <td>0</td>\n",
       "      <td>0</td>\n",
       "      <td>164.523754</td>\n",
       "      <td>1</td>\n",
       "      <td>5.284900</td>\n",
       "      <td>2</td>\n",
       "      <td>0</td>\n",
       "      <td>7</td>\n",
       "      <td>4</td>\n",
       "      <td>244.336917</td>\n",
       "    </tr>\n",
       "    <tr>\n",
       "      <th>3</th>\n",
       "      <td>56.070298</td>\n",
       "      <td>1</td>\n",
       "      <td>4</td>\n",
       "      <td>124.831749</td>\n",
       "      <td>0</td>\n",
       "      <td>2</td>\n",
       "      <td>181.453944</td>\n",
       "      <td>0</td>\n",
       "      <td>1.096476</td>\n",
       "      <td>1</td>\n",
       "      <td>1</td>\n",
       "      <td>7</td>\n",
       "      <td>2</td>\n",
       "      <td>237.985356</td>\n",
       "    </tr>\n",
       "    <tr>\n",
       "      <th>4</th>\n",
       "      <td>44.121116</td>\n",
       "      <td>1</td>\n",
       "      <td>4</td>\n",
       "      <td>109.887955</td>\n",
       "      <td>0</td>\n",
       "      <td>2</td>\n",
       "      <td>110.055090</td>\n",
       "      <td>1</td>\n",
       "      <td>0.437412</td>\n",
       "      <td>2</td>\n",
       "      <td>0</td>\n",
       "      <td>3</td>\n",
       "      <td>1</td>\n",
       "      <td>245.907334</td>\n",
       "    </tr>\n",
       "  </tbody>\n",
       "</table>\n",
       "</div>"
      ],
      "text/plain": [
       "         age  sex  cp    trestbps  fbs  restecg     thalach  exang   oldpeak  \\\n",
       "0  46.950938    1   1  165.981331    0        2  152.691434      0  1.774223   \n",
       "1  47.359284    1   4  134.748286    0        2  132.079047      1  0.407640   \n",
       "2  58.455787    1   4  129.456617    0        0  164.523754      1  5.284900   \n",
       "3  56.070298    1   4  124.831749    0        2  181.453944      0  1.096476   \n",
       "4  44.121116    1   4  109.887955    0        2  110.055090      1  0.437412   \n",
       "\n",
       "   slope  ca  thal  num        chol  \n",
       "0      2   0     7    3  265.569780  \n",
       "1      2   0     7    0  269.368061  \n",
       "2      2   0     7    4  244.336917  \n",
       "3      1   1     7    2  237.985356  \n",
       "4      2   0     3    1  245.907334  "
      ]
     },
     "execution_count": 2,
     "metadata": {},
     "output_type": "execute_result"
    }
   ],
   "source": [
    "df = pd.read_csv(\"./data/BNG_cholesterol.csv\")\n",
    "df.head()"
   ]
  },
  {
   "cell_type": "markdown",
   "metadata": {},
   "source": [
    "### Clean Data"
   ]
  },
  {
   "cell_type": "code",
   "execution_count": null,
   "metadata": {},
   "outputs": [],
   "source": []
  },
  {
   "cell_type": "markdown",
   "metadata": {},
   "source": [
    "### Correlation Matrix + Interpretation"
   ]
  },
  {
   "cell_type": "code",
   "execution_count": null,
   "metadata": {},
   "outputs": [],
   "source": []
  },
  {
   "cell_type": "markdown",
   "metadata": {},
   "source": [
    "### Baseline Model Using scipy.stats"
   ]
  },
  {
   "cell_type": "code",
   "execution_count": null,
   "metadata": {},
   "outputs": [],
   "source": []
  },
  {
   "cell_type": "markdown",
   "metadata": {},
   "source": [
    "### Baseline Model Using sklearn"
   ]
  },
  {
   "cell_type": "code",
   "execution_count": null,
   "metadata": {},
   "outputs": [],
   "source": []
  },
  {
   "cell_type": "markdown",
   "metadata": {},
   "source": [
    "### Iterate through models"
   ]
  },
  {
   "cell_type": "code",
   "execution_count": null,
   "metadata": {},
   "outputs": [],
   "source": []
  },
  {
   "cell_type": "markdown",
   "metadata": {},
   "source": [
    "### Cross Validate"
   ]
  },
  {
   "cell_type": "code",
   "execution_count": null,
   "metadata": {},
   "outputs": [],
   "source": []
  },
  {
   "cell_type": "markdown",
   "metadata": {},
   "source": [
    "### Final Model Summary \n",
    "- What is your model?\n",
    "- What transformations/feature engineering/standardization did you do?\n",
    "- What features are you using and why?\n",
    "- Interpret your model features using their coefficients\n",
    "- Recommendations?"
   ]
  },
  {
   "cell_type": "code",
   "execution_count": null,
   "metadata": {},
   "outputs": [],
   "source": []
  },
  {
   "cell_type": "markdown",
   "metadata": {},
   "source": [
    "### Assessment"
   ]
  }
 ],
 "metadata": {
  "kernelspec": {
   "display_name": "Python 3",
   "language": "python",
   "name": "python3"
  },
  "language_info": {
   "codemirror_mode": {
    "name": "ipython",
    "version": 3
   },
   "file_extension": ".py",
   "mimetype": "text/x-python",
   "name": "python",
   "nbconvert_exporter": "python",
   "pygments_lexer": "ipython3",
   "version": "3.7.3"
  }
 },
 "nbformat": 4,
 "nbformat_minor": 2
}
